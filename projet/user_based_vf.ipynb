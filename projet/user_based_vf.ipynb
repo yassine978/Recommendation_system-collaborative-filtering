{
 "cells": [
  {
   "cell_type": "code",
   "execution_count": 1,
   "id": "a9cad189",
   "metadata": {},
   "outputs": [
    {
     "data": {
      "text/plain": [
       "(100004, 4)"
      ]
     },
     "execution_count": 1,
     "metadata": {},
     "output_type": "execute_result"
    }
   ],
   "source": [
    "from scipy import spatial\n",
    "import pandas as pd\n",
    "import numpy as np\n",
    "from sklearn.datasets import make_blobs\n",
    "from sklearn.neighbors import NearestNeighbors\n",
    "from sklearn.model_selection import train_test_split\n",
    "from sklearn.metrics import accuracy_score\n",
    "from sklearn.tree import DecisionTreeClassifier\n",
    "from sklearn.metrics import confusion_matrix\n",
    "ds = pd.read_csv(\"Ratings.csv\")\n",
    "ds.shape"
   ]
  },
  {
   "cell_type": "code",
   "execution_count": 2,
   "id": "deb16d90",
   "metadata": {},
   "outputs": [
    {
     "data": {
      "text/html": [
       "<div>\n",
       "<style scoped>\n",
       "    .dataframe tbody tr th:only-of-type {\n",
       "        vertical-align: middle;\n",
       "    }\n",
       "\n",
       "    .dataframe tbody tr th {\n",
       "        vertical-align: top;\n",
       "    }\n",
       "\n",
       "    .dataframe thead th {\n",
       "        text-align: right;\n",
       "    }\n",
       "</style>\n",
       "<table border=\"1\" class=\"dataframe\">\n",
       "  <thead>\n",
       "    <tr style=\"text-align: right;\">\n",
       "      <th></th>\n",
       "      <th>userId</th>\n",
       "      <th>movieId</th>\n",
       "      <th>rating</th>\n",
       "      <th>timestamp</th>\n",
       "    </tr>\n",
       "  </thead>\n",
       "  <tbody>\n",
       "    <tr>\n",
       "      <th>0</th>\n",
       "      <td>1</td>\n",
       "      <td>31</td>\n",
       "      <td>2.5</td>\n",
       "      <td>1260759144</td>\n",
       "    </tr>\n",
       "    <tr>\n",
       "      <th>1</th>\n",
       "      <td>1</td>\n",
       "      <td>1029</td>\n",
       "      <td>3.0</td>\n",
       "      <td>1260759179</td>\n",
       "    </tr>\n",
       "    <tr>\n",
       "      <th>2</th>\n",
       "      <td>1</td>\n",
       "      <td>1061</td>\n",
       "      <td>3.0</td>\n",
       "      <td>1260759182</td>\n",
       "    </tr>\n",
       "    <tr>\n",
       "      <th>3</th>\n",
       "      <td>1</td>\n",
       "      <td>1129</td>\n",
       "      <td>2.0</td>\n",
       "      <td>1260759185</td>\n",
       "    </tr>\n",
       "    <tr>\n",
       "      <th>4</th>\n",
       "      <td>1</td>\n",
       "      <td>1172</td>\n",
       "      <td>4.0</td>\n",
       "      <td>1260759205</td>\n",
       "    </tr>\n",
       "  </tbody>\n",
       "</table>\n",
       "</div>"
      ],
      "text/plain": [
       "   userId  movieId  rating   timestamp\n",
       "0       1       31     2.5  1260759144\n",
       "1       1     1029     3.0  1260759179\n",
       "2       1     1061     3.0  1260759182\n",
       "3       1     1129     2.0  1260759185\n",
       "4       1     1172     4.0  1260759205"
      ]
     },
     "execution_count": 2,
     "metadata": {},
     "output_type": "execute_result"
    }
   ],
   "source": [
    "ds.head()"
   ]
  },
  {
   "cell_type": "code",
   "execution_count": 3,
   "id": "5ec67a0d",
   "metadata": {},
   "outputs": [
    {
     "name": "stdout",
     "output_type": "stream",
     "text": [
      "[[0. 0. 0. ... 0. 0. 0.]\n",
      " [0. 0. 0. ... 0. 0. 0.]\n",
      " [0. 0. 0. ... 0. 0. 0.]\n",
      " ...\n",
      " [0. 0. 0. ... 0. 0. 0.]\n",
      " [4. 0. 0. ... 0. 0. 0.]\n",
      " [5. 0. 0. ... 0. 0. 0.]]\n"
     ]
    }
   ],
   "source": [
    "movie = ds.pivot_table(index='userId', columns='movieId', values='rating')\n",
    "movie=np.nan_to_num(movie,nan=0)\n",
    "print(movie)"
   ]
  },
  {
   "cell_type": "code",
   "execution_count": 4,
   "id": "c9ca19d0",
   "metadata": {},
   "outputs": [
    {
     "data": {
      "text/plain": [
       "(671, 9066)"
      ]
     },
     "execution_count": 4,
     "metadata": {},
     "output_type": "execute_result"
    }
   ],
   "source": [
    "movie.shape"
   ]
  },
  {
   "cell_type": "code",
   "execution_count": 5,
   "id": "d2cf1d49",
   "metadata": {},
   "outputs": [
    {
     "name": "stdout",
     "output_type": "stream",
     "text": [
      "[[0. 0. 0. ... 0. 0. 0.]\n",
      " [0. 0. 0. ... 0. 0. 0.]\n",
      " [0. 0. 0. ... 0. 0. 0.]\n",
      " ...\n",
      " [0. 0. 0. ... 0. 0. 0.]\n",
      " [4. 2. 0. ... 0. 0. 0.]\n",
      " [4. 0. 4. ... 0. 0. 0.]]\n"
     ]
    }
   ],
   "source": [
    "c_movie=movie[0:100,0:500]\n",
    "print(c_movie)"
   ]
  },
  {
   "cell_type": "code",
   "execution_count": 6,
   "id": "edf87afd",
   "metadata": {},
   "outputs": [
    {
     "name": "stdin",
     "output_type": "stream",
     "text": [
      "Enter the number of users to search for:  1\n",
      "Enter the number of movies to search for:  1\n",
      "Enter number of neighbors (k):  50\n"
     ]
    },
    {
     "name": "stdout",
     "output_type": "stream",
     "text": [
      "[[1.76 0.   0.   ... 0.   0.   0.  ]\n",
      " [0.   0.   0.   ... 0.   0.   0.  ]\n",
      " [0.   0.   0.   ... 0.   0.   0.  ]\n",
      " ...\n",
      " [0.   0.   0.   ... 0.   0.   0.  ]\n",
      " [4.   2.   0.   ... 0.   0.   0.  ]\n",
      " [4.   0.   4.   ... 0.   0.   0.  ]]\n",
      "[95, 30, 31, 6, 87, 38, 72, 35, 59, 97, 96, 94, 93, 92, 91, 90, 98, 89, 80, 81, 77, 78, 79, 75, 84, 83, 74, 86, 88, 73, 60, 61, 62, 63, 64, 57, 65, 66, 58, 56, 68, 69, 70, 71, 55, 85, 76, 53, 67, 82]\n"
     ]
    }
   ],
   "source": [
    "user_r=0\n",
    "user_rech=int(input(\"Enter the number of users to search for: \"))\n",
    "film_rech=int(input(\"Enter the number of movies to search for: \"))\n",
    "p=c_movie[user_rech-1][film_rech-1]\n",
    "Maxuser=[]\n",
    "k = int(input(\"Enter number of neighbors (k): \"))\n",
    "\n",
    "nbrs = NearestNeighbors(n_neighbors=k+1, metric='cosine').fit(c_movie)\n",
    "distances, indices = nbrs.kneighbors([c_movie[user_rech-1]])\n",
    "for i in range(1,k+1):\n",
    "    Maxuser.append(indices[0][i])\n",
    "for n in Maxuser:\n",
    "    user_r=user_r+c_movie[n][film_rech-1]\n",
    "user_r=user_r/k\n",
    "c_movie[user_rech-1][film_rech-1] = user_r\n",
    "print(c_movie)\n",
    "c_movie[user_rech-1][film_rech-1]=p\n",
    "print(Maxuser)"
   ]
  },
  {
   "cell_type": "code",
   "execution_count": 7,
   "id": "a6407f6f",
   "metadata": {},
   "outputs": [
    {
     "name": "stdin",
     "output_type": "stream",
     "text": [
      "Enter the number of users to search for:  1\n",
      "Enter the number of movies to search for:  1\n",
      "Enter number of neighbors (k):  50\n"
     ]
    },
    {
     "name": "stdout",
     "output_type": "stream",
     "text": [
      "[[1.01 0.   0.   ... 0.   0.   0.  ]\n",
      " [0.   0.   0.   ... 0.   0.   0.  ]\n",
      " [0.   0.   0.   ... 0.   0.   0.  ]\n",
      " ...\n",
      " [0.   0.   0.   ... 0.   0.   0.  ]\n",
      " [4.   2.   0.   ... 0.   0.   0.  ]\n",
      " [4.   0.   4.   ... 0.   0.   0.  ]]\n",
      "[13, 70, 28, 50, 44, 64, 11, 53, 95, 51, 34, 39, 36, 75, 61, 52, 5, 45, 32, 57, 78, 15, 83, 24, 10, 9, 97, 27, 26, 48, 80, 60, 96, 2, 65, 89, 59, 99, 23, 43, 71, 30, 8, 73, 86, 12, 42, 62, 19, 58]\n"
     ]
    }
   ],
   "source": [
    "user_r=0\n",
    "user_rech=int(input(\"Enter the number of users to search for: \"))\n",
    "film_rech=int(input(\"Enter the number of movies to search for: \"))\n",
    "p=c_movie[user_rech-1][film_rech-1]\n",
    "Maxuser=[]\n",
    "k = int(input(\"Enter number of neighbors (k): \"))\n",
    "\n",
    "nbrs = NearestNeighbors(n_neighbors=k+1, metric='euclidean').fit(c_movie)\n",
    "distances, indices = nbrs.kneighbors([c_movie[user_rech-1]])\n",
    "for i in range(1,k+1):\n",
    "    Maxuser.append(indices[0][i])\n",
    "for n in Maxuser:\n",
    "    user_r=user_r+c_movie[n][film_rech-1]\n",
    "user_r=user_r/k\n",
    "c_movie[user_rech-1][film_rech-1] = user_r\n",
    "print(c_movie)\n",
    "c_movie[user_rech-1][film_rech-1]=p\n",
    "print(Maxuser)"
   ]
  },
  {
   "cell_type": "code",
   "execution_count": 8,
   "id": "f462657b",
   "metadata": {},
   "outputs": [
    {
     "name": "stdin",
     "output_type": "stream",
     "text": [
      "Enter the number of users to search for:  1\n",
      "Enter the number of movies to search for:  1\n",
      "Enter number of neighbors (k):  50\n"
     ]
    },
    {
     "name": "stdout",
     "output_type": "stream",
     "text": [
      "[[0.92 0.   0.   ... 0.   0.   0.  ]\n",
      " [0.   0.   0.   ... 0.   0.   0.  ]\n",
      " [0.   0.   0.   ... 0.   0.   0.  ]\n",
      " ...\n",
      " [0.   0.   0.   ... 0.   0.   0.  ]\n",
      " [4.   2.   0.   ... 0.   0.   0.  ]\n",
      " [4.   0.   4.   ... 0.   0.   0.  ]]\n",
      "[95, 30, 31, 6, 87, 38, 72, 35, 53, 44, 64, 36, 39, 45, 51, 11, 75, 61, 5, 34, 27, 15, 10, 57, 9, 26, 83, 52, 97, 24, 32, 59, 65, 73, 80, 78, 2, 89, 8, 48, 60, 96, 23, 12, 41, 37, 99, 71, 43, 86]\n"
     ]
    }
   ],
   "source": [
    "user_r = 0\n",
    "user_rech=int(input(\"Enter the number of users to search for: \"))\n",
    "film_rech=int(input(\"Enter the number of movies to search for: \"))\n",
    "p=c_movie[user_rech-1][film_rech-1]\n",
    "Maxuser = []\n",
    "\n",
    "k = int(input(\"Enter number of neighbors (k): \"))\n",
    "\n",
    "nbrs = NearestNeighbors(n_neighbors=k+1, metric='correlation').fit(c_movie)\n",
    "distances, indices = nbrs.kneighbors([c_movie[user_rech-1]])\n",
    "\n",
    "for i in range(1, k+1):\n",
    "    Maxuser.append(indices[0][i])\n",
    "\n",
    "for n in Maxuser:\n",
    "    user_r = user_r + c_movie[n][film_rech-1]\n",
    "\n",
    "user_r = user_r / k\n",
    "c_movie[user_rech-1][film_rech-1] = user_r\n",
    "\n",
    "print(c_movie)\n",
    "c_movie[user_rech-1][film_rech-1]=p\n",
    "print(Maxuser)"
   ]
  },
  {
   "cell_type": "code",
   "execution_count": 9,
   "id": "5194ac40",
   "metadata": {},
   "outputs": [
    {
     "name": "stdin",
     "output_type": "stream",
     "text": [
      "Enter the number of users to search for:  1\n",
      "Enter the number of movies to search for:  1\n",
      "Enter number of neighbors (k):  50\n"
     ]
    },
    {
     "name": "stdout",
     "output_type": "stream",
     "text": [
      "[[1.76 0.   0.   ... 0.   0.   0.  ]\n",
      " [0.   0.   0.   ... 0.   0.   0.  ]\n",
      " [0.   0.   0.   ... 0.   0.   0.  ]\n",
      " ...\n",
      " [0.   0.   0.   ... 0.   0.   0.  ]\n",
      " [4.   2.   0.   ... 0.   0.   0.  ]\n",
      " [4.   0.   4.   ... 0.   0.   0.  ]]\n",
      "[95, 30, 6, 31, 38, 87, 35, 72, 60, 97, 96, 94, 93, 92, 91, 90, 89, 74, 80, 81, 77, 78, 79, 75, 84, 83, 98, 86, 88, 73, 61, 62, 63, 64, 58, 65, 66, 57, 59, 67, 56, 69, 70, 71, 55, 85, 76, 53, 68, 82]\n"
     ]
    },
    {
     "name": "stderr",
     "output_type": "stream",
     "text": [
      "C:\\Users\\yassi\\anaconda3\\Lib\\site-packages\\sklearn\\metrics\\pairwise.py:2025: DataConversionWarning: Data was converted to boolean for metric jaccard\n",
      "  warnings.warn(msg, DataConversionWarning)\n"
     ]
    }
   ],
   "source": [
    "user_r = 0\n",
    "user_rech=int(input(\"Enter the number of users to search for: \"))\n",
    "film_rech=int(input(\"Enter the number of movies to search for: \"))\n",
    "p=c_movie[user_rech-1][film_rech-1]\n",
    "Maxuser = []\n",
    "\n",
    "k = int(input(\"Enter number of neighbors (k): \"))\n",
    "\n",
    "nbrs = NearestNeighbors(n_neighbors=k+1, metric='jaccard').fit(c_movie)\n",
    "distances, indices = nbrs.kneighbors([c_movie[user_rech-1]])\n",
    "\n",
    "for i in range(1, k+1):\n",
    "    Maxuser.append(indices[0][i])\n",
    "\n",
    "for n in Maxuser:\n",
    "    user_r = user_r + c_movie[n][film_rech-1]\n",
    "\n",
    "user_r = user_r / k\n",
    "c_movie[user_rech-1][film_rech-1] = user_r\n",
    "\n",
    "print(c_movie)\n",
    "c_movie[user_rech-1][film_rech-1]=p\n",
    "print(Maxuser)"
   ]
  },
  {
   "cell_type": "code",
   "execution_count": 10,
   "id": "05472d1b",
   "metadata": {},
   "outputs": [
    {
     "data": {
      "text/html": [
       "<div>\n",
       "<style scoped>\n",
       "    .dataframe tbody tr th:only-of-type {\n",
       "        vertical-align: middle;\n",
       "    }\n",
       "\n",
       "    .dataframe tbody tr th {\n",
       "        vertical-align: top;\n",
       "    }\n",
       "\n",
       "    .dataframe thead th {\n",
       "        text-align: right;\n",
       "    }\n",
       "</style>\n",
       "<table border=\"1\" class=\"dataframe\">\n",
       "  <thead>\n",
       "    <tr style=\"text-align: right;\">\n",
       "      <th></th>\n",
       "      <th>userId</th>\n",
       "      <th>movieId</th>\n",
       "      <th>timestamp</th>\n",
       "      <th>rating</th>\n",
       "    </tr>\n",
       "  </thead>\n",
       "  <tbody>\n",
       "    <tr>\n",
       "      <th>0</th>\n",
       "      <td>1</td>\n",
       "      <td>31</td>\n",
       "      <td>1260759144</td>\n",
       "      <td>2.5</td>\n",
       "    </tr>\n",
       "    <tr>\n",
       "      <th>1</th>\n",
       "      <td>1</td>\n",
       "      <td>1029</td>\n",
       "      <td>1260759179</td>\n",
       "      <td>3.0</td>\n",
       "    </tr>\n",
       "    <tr>\n",
       "      <th>2</th>\n",
       "      <td>1</td>\n",
       "      <td>1061</td>\n",
       "      <td>1260759182</td>\n",
       "      <td>3.0</td>\n",
       "    </tr>\n",
       "    <tr>\n",
       "      <th>3</th>\n",
       "      <td>1</td>\n",
       "      <td>1129</td>\n",
       "      <td>1260759185</td>\n",
       "      <td>2.0</td>\n",
       "    </tr>\n",
       "    <tr>\n",
       "      <th>4</th>\n",
       "      <td>1</td>\n",
       "      <td>1172</td>\n",
       "      <td>1260759205</td>\n",
       "      <td>4.0</td>\n",
       "    </tr>\n",
       "  </tbody>\n",
       "</table>\n",
       "</div>"
      ],
      "text/plain": [
       "   userId  movieId   timestamp  rating\n",
       "0       1       31  1260759144     2.5\n",
       "1       1     1029  1260759179     3.0\n",
       "2       1     1061  1260759182     3.0\n",
       "3       1     1129  1260759185     2.0\n",
       "4       1     1172  1260759205     4.0"
      ]
     },
     "execution_count": 10,
     "metadata": {},
     "output_type": "execute_result"
    }
   ],
   "source": [
    "ds=ds.reindex(columns=[\"userId\",\"movieId\",\"timestamp\",\"rating\"])\n",
    "ds.head()"
   ]
  },
  {
   "cell_type": "code",
   "execution_count": 11,
   "id": "16ec3301",
   "metadata": {},
   "outputs": [],
   "source": [
    "#KNN!!\n",
    "#Now, we will transform the data using iloc to access the required data and .values property to get the output as an array\n",
    "# We are storing all rows and first 3 columns in x, and the rating column in y.\n",
    "x = ds.iloc[:,:2].values\n",
    "y = ds['rating'].values.astype(int)\n",
    "x_train, x_test, y_train, y_test = train_test_split(x, y , test_size=0.2, random_state=0)"
   ]
  },
  {
   "cell_type": "code",
   "execution_count": 12,
   "id": "0a20d747",
   "metadata": {},
   "outputs": [
    {
     "data": {
      "text/html": [
       "<style>#sk-container-id-1 {color: black;background-color: white;}#sk-container-id-1 pre{padding: 0;}#sk-container-id-1 div.sk-toggleable {background-color: white;}#sk-container-id-1 label.sk-toggleable__label {cursor: pointer;display: block;width: 100%;margin-bottom: 0;padding: 0.3em;box-sizing: border-box;text-align: center;}#sk-container-id-1 label.sk-toggleable__label-arrow:before {content: \"▸\";float: left;margin-right: 0.25em;color: #696969;}#sk-container-id-1 label.sk-toggleable__label-arrow:hover:before {color: black;}#sk-container-id-1 div.sk-estimator:hover label.sk-toggleable__label-arrow:before {color: black;}#sk-container-id-1 div.sk-toggleable__content {max-height: 0;max-width: 0;overflow: hidden;text-align: left;background-color: #f0f8ff;}#sk-container-id-1 div.sk-toggleable__content pre {margin: 0.2em;color: black;border-radius: 0.25em;background-color: #f0f8ff;}#sk-container-id-1 input.sk-toggleable__control:checked~div.sk-toggleable__content {max-height: 200px;max-width: 100%;overflow: auto;}#sk-container-id-1 input.sk-toggleable__control:checked~label.sk-toggleable__label-arrow:before {content: \"▾\";}#sk-container-id-1 div.sk-estimator input.sk-toggleable__control:checked~label.sk-toggleable__label {background-color: #d4ebff;}#sk-container-id-1 div.sk-label input.sk-toggleable__control:checked~label.sk-toggleable__label {background-color: #d4ebff;}#sk-container-id-1 input.sk-hidden--visually {border: 0;clip: rect(1px 1px 1px 1px);clip: rect(1px, 1px, 1px, 1px);height: 1px;margin: -1px;overflow: hidden;padding: 0;position: absolute;width: 1px;}#sk-container-id-1 div.sk-estimator {font-family: monospace;background-color: #f0f8ff;border: 1px dotted black;border-radius: 0.25em;box-sizing: border-box;margin-bottom: 0.5em;}#sk-container-id-1 div.sk-estimator:hover {background-color: #d4ebff;}#sk-container-id-1 div.sk-parallel-item::after {content: \"\";width: 100%;border-bottom: 1px solid gray;flex-grow: 1;}#sk-container-id-1 div.sk-label:hover label.sk-toggleable__label {background-color: #d4ebff;}#sk-container-id-1 div.sk-serial::before {content: \"\";position: absolute;border-left: 1px solid gray;box-sizing: border-box;top: 0;bottom: 0;left: 50%;z-index: 0;}#sk-container-id-1 div.sk-serial {display: flex;flex-direction: column;align-items: center;background-color: white;padding-right: 0.2em;padding-left: 0.2em;position: relative;}#sk-container-id-1 div.sk-item {position: relative;z-index: 1;}#sk-container-id-1 div.sk-parallel {display: flex;align-items: stretch;justify-content: center;background-color: white;position: relative;}#sk-container-id-1 div.sk-item::before, #sk-container-id-1 div.sk-parallel-item::before {content: \"\";position: absolute;border-left: 1px solid gray;box-sizing: border-box;top: 0;bottom: 0;left: 50%;z-index: -1;}#sk-container-id-1 div.sk-parallel-item {display: flex;flex-direction: column;z-index: 1;position: relative;background-color: white;}#sk-container-id-1 div.sk-parallel-item:first-child::after {align-self: flex-end;width: 50%;}#sk-container-id-1 div.sk-parallel-item:last-child::after {align-self: flex-start;width: 50%;}#sk-container-id-1 div.sk-parallel-item:only-child::after {width: 0;}#sk-container-id-1 div.sk-dashed-wrapped {border: 1px dashed gray;margin: 0 0.4em 0.5em 0.4em;box-sizing: border-box;padding-bottom: 0.4em;background-color: white;}#sk-container-id-1 div.sk-label label {font-family: monospace;font-weight: bold;display: inline-block;line-height: 1.2em;}#sk-container-id-1 div.sk-label-container {text-align: center;}#sk-container-id-1 div.sk-container {/* jupyter's `normalize.less` sets `[hidden] { display: none; }` but bootstrap.min.css set `[hidden] { display: none !important; }` so we also need the `!important` here to be able to override the default hidden behavior on the sphinx rendered scikit-learn.org. See: https://github.com/scikit-learn/scikit-learn/issues/21755 */display: inline-block !important;position: relative;}#sk-container-id-1 div.sk-text-repr-fallback {display: none;}</style><div id=\"sk-container-id-1\" class=\"sk-top-container\"><div class=\"sk-text-repr-fallback\"><pre>KNeighborsClassifier(n_neighbors=50)</pre><b>In a Jupyter environment, please rerun this cell to show the HTML representation or trust the notebook. <br />On GitHub, the HTML representation is unable to render, please try loading this page with nbviewer.org.</b></div><div class=\"sk-container\" hidden><div class=\"sk-item\"><div class=\"sk-estimator sk-toggleable\"><input class=\"sk-toggleable__control sk-hidden--visually\" id=\"sk-estimator-id-1\" type=\"checkbox\" checked><label for=\"sk-estimator-id-1\" class=\"sk-toggleable__label sk-toggleable__label-arrow\">KNeighborsClassifier</label><div class=\"sk-toggleable__content\"><pre>KNeighborsClassifier(n_neighbors=50)</pre></div></div></div></div></div>"
      ],
      "text/plain": [
       "KNeighborsClassifier(n_neighbors=50)"
      ]
     },
     "execution_count": 12,
     "metadata": {},
     "output_type": "execute_result"
    }
   ],
   "source": [
    "from sklearn.neighbors import KNeighborsClassifier\n",
    "#Knn \n",
    "#two classifiers with k values of 5 and 10 to demonstrate the relevance of the k value.\n",
    "#The models are then trained using a train set.\n",
    "# Prepare data\n",
    "knn5 = KNeighborsClassifier(n_neighbors = 5)\n",
    "knn10 = KNeighborsClassifier(n_neighbors=10)\n",
    "knn20 = KNeighborsClassifier(n_neighbors=20)\n",
    "knn50 = KNeighborsClassifier(n_neighbors=50)\n",
    "knn5.fit(x_train, y_train)\n",
    "knn10.fit(x_train, y_train)\n",
    "knn20.fit(x_train, y_train)\n",
    "knn50.fit(x_train, y_train)"
   ]
  },
  {
   "cell_type": "code",
   "execution_count": 13,
   "id": "0fa8eb70",
   "metadata": {},
   "outputs": [],
   "source": [
    "#Predictions for the KNN Classifiers\n",
    "#In the test set, we forecast the target values and compare them to the actual values.\n",
    "y_pred_5 = knn5.predict(x_test)\n",
    "y_pred_10 = knn10.predict(x_test)\n",
    "y_pred_20=knn20.predict(x_test)\n",
    "y_pred_50=knn50.predict(x_test)"
   ]
  },
  {
   "cell_type": "code",
   "execution_count": 14,
   "id": "21f93ad6",
   "metadata": {},
   "outputs": [
    {
     "name": "stdout",
     "output_type": "stream",
     "text": [
      "Accuracy with k=5 32.88835558222089\n",
      "Accuracy with k=10 34.54327283635818\n",
      "Accuracy with k=20 35.59322033898305\n",
      "Accuracy with k=50 36.63316834158292\n"
     ]
    }
   ],
   "source": [
    "#Predict Accuracy for both k values\n",
    "from sklearn.metrics import accuracy_score\n",
    "print(\"Accuracy with k=5\", accuracy_score(y_test, y_pred_5)*100)\n",
    "print(\"Accuracy with k=10\", accuracy_score(y_test, y_pred_10)*100)\n",
    "print(\"Accuracy with k=20\", accuracy_score(y_test, y_pred_20)*100)\n",
    "print(\"Accuracy with k=50\", accuracy_score(y_test, y_pred_50)*100)"
   ]
  },
  {
   "cell_type": "code",
   "execution_count": 15,
   "id": "6ea764e9",
   "metadata": {},
   "outputs": [
    {
     "name": "stdout",
     "output_type": "stream",
     "text": [
      "              precision    recall  f1-score   support\n",
      "\n",
      "           0       0.03      0.02      0.03       218\n",
      "           1       0.11      0.09      0.10       955\n",
      "           2       0.18      0.15      0.16      2374\n",
      "           3       0.34      0.42      0.38      6175\n",
      "           4       0.40      0.43      0.41      7298\n",
      "           5       0.27      0.14      0.19      2981\n",
      "\n",
      "    accuracy                           0.33     20001\n",
      "   macro avg       0.22      0.21      0.21     20001\n",
      "weighted avg       0.32      0.33      0.32     20001\n",
      "\n",
      "[[   5   14   29   75   79   16]\n",
      " [  13   84  143  376  285   54]\n",
      " [  32  126  360  956  792  108]\n",
      " [  40  222  684 2593 2260  376]\n",
      " [  41  224  617 2688 3110  618]\n",
      " [  12   68  204  961 1310  426]]\n"
     ]
    }
   ],
   "source": [
    "from sklearn.metrics import classification_report, confusion_matrix\n",
    "print(classification_report(y_test,y_pred_5))\n",
    "print(confusion_matrix(y_test,y_pred_5))\n",
    "#Support is the number of actual occurrences of the class in the specified dataset."
   ]
  },
  {
   "cell_type": "code",
   "execution_count": 16,
   "id": "7cf492f0",
   "metadata": {},
   "outputs": [
    {
     "name": "stdout",
     "output_type": "stream",
     "text": [
      "              precision    recall  f1-score   support\n",
      "\n",
      "           0       0.00      0.00      0.00       218\n",
      "           1       0.16      0.05      0.08       955\n",
      "           2       0.20      0.12      0.15      2374\n",
      "           3       0.34      0.43      0.38      6175\n",
      "           4       0.39      0.48      0.43      7298\n",
      "           5       0.29      0.13      0.18      2981\n",
      "\n",
      "    accuracy                           0.35     20001\n",
      "   macro avg       0.23      0.20      0.20     20001\n",
      "weighted avg       0.32      0.35      0.32     20001\n",
      "\n",
      "[[   0   10   18   93   87   10]\n",
      " [   1   52  104  397  355   46]\n",
      " [   2   53  281  945 1001   92]\n",
      " [   2   92  463 2676 2653  289]\n",
      " [   6   87  431 2756 3501  517]\n",
      " [   0   25  132  953 1472  399]]\n"
     ]
    }
   ],
   "source": [
    "print(classification_report(y_test,y_pred_10))\n",
    "print(confusion_matrix(y_test,y_pred_10))"
   ]
  },
  {
   "cell_type": "code",
   "execution_count": 17,
   "id": "3ff1143c",
   "metadata": {},
   "outputs": [
    {
     "name": "stdout",
     "output_type": "stream",
     "text": [
      "              precision    recall  f1-score   support\n",
      "\n",
      "           0       0.00      0.00      0.00       218\n",
      "           1       0.18      0.02      0.03       955\n",
      "           2       0.17      0.05      0.08      2374\n",
      "           3       0.34      0.43      0.38      6175\n",
      "           4       0.39      0.55      0.45      7298\n",
      "           5       0.31      0.10      0.16      2981\n",
      "\n",
      "    accuracy                           0.36     20001\n",
      "   macro avg       0.23      0.19      0.18     20001\n",
      "weighted avg       0.32      0.36      0.32     20001\n",
      "\n",
      "[[   0    2   12   81  118    5]\n",
      " [   0   15   65  409  435   31]\n",
      " [   0   17  130 1034 1130   63]\n",
      " [   1   21  250 2653 3031  219]\n",
      " [   0   23  231 2648 4010  386]\n",
      " [   1    5   56  936 1672  311]]\n"
     ]
    }
   ],
   "source": [
    "print(classification_report(y_test,y_pred_20))\n",
    "print(confusion_matrix(y_test,y_pred_20))"
   ]
  },
  {
   "cell_type": "code",
   "execution_count": 18,
   "id": "4a7a6124",
   "metadata": {},
   "outputs": [
    {
     "name": "stdout",
     "output_type": "stream",
     "text": [
      "              precision    recall  f1-score   support\n",
      "\n",
      "           0       0.00      0.00      0.00       218\n",
      "           1       0.40      0.01      0.01       955\n",
      "           2       0.17      0.01      0.03      2374\n",
      "           3       0.34      0.40      0.37      6175\n",
      "           4       0.38      0.64      0.48      7298\n",
      "           5       0.35      0.06      0.11      2981\n",
      "\n",
      "    accuracy                           0.37     20001\n",
      "   macro avg       0.27      0.19      0.17     20001\n",
      "weighted avg       0.34      0.37      0.31     20001\n",
      "\n",
      "[[   0    2    3   79  131    3]\n",
      " [   0    6   23  413  496   17]\n",
      " [   0    0   33  982 1333   26]\n",
      " [   0    4   73 2445 3558   95]\n",
      " [   0    1   54 2381 4654  208]\n",
      " [   0    2   10  849 1931  189]]\n"
     ]
    },
    {
     "name": "stderr",
     "output_type": "stream",
     "text": [
      "C:\\Users\\yassi\\anaconda3\\Lib\\site-packages\\sklearn\\metrics\\_classification.py:1344: UndefinedMetricWarning: Precision and F-score are ill-defined and being set to 0.0 in labels with no predicted samples. Use `zero_division` parameter to control this behavior.\n",
      "  _warn_prf(average, modifier, msg_start, len(result))\n",
      "C:\\Users\\yassi\\anaconda3\\Lib\\site-packages\\sklearn\\metrics\\_classification.py:1344: UndefinedMetricWarning: Precision and F-score are ill-defined and being set to 0.0 in labels with no predicted samples. Use `zero_division` parameter to control this behavior.\n",
      "  _warn_prf(average, modifier, msg_start, len(result))\n",
      "C:\\Users\\yassi\\anaconda3\\Lib\\site-packages\\sklearn\\metrics\\_classification.py:1344: UndefinedMetricWarning: Precision and F-score are ill-defined and being set to 0.0 in labels with no predicted samples. Use `zero_division` parameter to control this behavior.\n",
      "  _warn_prf(average, modifier, msg_start, len(result))\n"
     ]
    }
   ],
   "source": [
    "print(classification_report(y_test,y_pred_50))\n",
    "print(confusion_matrix(y_test,y_pred_50))"
   ]
  },
  {
   "cell_type": "code",
   "execution_count": 19,
   "id": "8f68504b",
   "metadata": {},
   "outputs": [
    {
     "ename": "NameError",
     "evalue": "name 'vrais_ratings' is not defined",
     "output_type": "error",
     "traceback": [
      "\u001b[1;31m---------------------------------------------------------------------------\u001b[0m",
      "\u001b[1;31mNameError\u001b[0m                                 Traceback (most recent call last)",
      "Cell \u001b[1;32mIn[19], line 11\u001b[0m\n\u001b[0;32m      8\u001b[0m seuil \u001b[38;5;241m=\u001b[39m \u001b[38;5;241m2.5\u001b[39m\n\u001b[0;32m     10\u001b[0m \u001b[38;5;66;03m# Define lists for real and predicted ratings\u001b[39;00m\n\u001b[1;32m---> 11\u001b[0m vrais_ratings \u001b[38;5;241m=\u001b[39m [\u001b[38;5;241m1\u001b[39m \u001b[38;5;28;01mif\u001b[39;00m rating \u001b[38;5;241m>\u001b[39m\u001b[38;5;241m=\u001b[39m seuil \u001b[38;5;28;01melse\u001b[39;00m \u001b[38;5;241m0\u001b[39m \u001b[38;5;28;01mfor\u001b[39;00m rating \u001b[38;5;129;01min\u001b[39;00m vrais_ratings]\n\u001b[0;32m     12\u001b[0m pred_ratings \u001b[38;5;241m=\u001b[39m [\u001b[38;5;241m1\u001b[39m \u001b[38;5;28;01mif\u001b[39;00m rating \u001b[38;5;241m>\u001b[39m\u001b[38;5;241m=\u001b[39m seuil \u001b[38;5;28;01melse\u001b[39;00m \u001b[38;5;241m0\u001b[39m \u001b[38;5;28;01mfor\u001b[39;00m rating \u001b[38;5;129;01min\u001b[39;00m pred_ratings]\n\u001b[0;32m     14\u001b[0m \u001b[38;5;66;03m# calculate the confusion matrix\u001b[39;00m\n",
      "\u001b[1;31mNameError\u001b[0m: name 'vrais_ratings' is not defined"
     ]
    }
   ],
   "source": [
    "from sklearn.metrics import confusion_matrix, precision_score, recall_score, f1_score\n",
    "from sklearn.metrics import mean_absolute_error, mean_squared_error\n",
    "\n",
    "pred_ratings = ds['rating'].values.astype(int)\n",
    "pred_ratings = pred_ratings[:20001]\n",
    "\n",
    "# Set threshold to determine relevance of items\n",
    "seuil = 2.5\n",
    "\n",
    "# Define lists for real and predicted ratings\n",
    "vrais_ratings = [1 if rating >= seuil else 0 for rating in vrais_ratings]\n",
    "pred_ratings = [1 if rating >= seuil else 0 for rating in pred_ratings]\n",
    "\n",
    "# calculate the confusion matrix\n",
    "conf_matrix = confusion_matrix(vrais_ratings, pred_ratings)\n",
    "\n",
    "print(conf_matrix)\n",
    "\n",
    "precision = precision_score(vrais_ratings,pred_ratings)\n",
    "recall = recall_score(vrais_ratings, pred_ratings)\n",
    "f1_score = f1_score(vrais_ratings, pred_ratings)\n",
    "accuracy = accuracy_score(vrais_ratings, pred_ratings)\n",
    "mse = mean_squared_error(vrais_ratings, pred_ratings)\n",
    "\n",
    "# View performance metrics\n",
    "print('Accuracy : {:.2f}'.format(accuracy))\n",
    "print('Precision : {:.2f}'.format(precision))\n",
    "print('Recall : {:.2f}'.format(recall))\n",
    "print('F1-score : {:.2f}'.format(f1_score))\n",
    "print('Mean Squared Error : {:.2f}'.format(mse))"
   ]
  },
  {
   "cell_type": "code",
   "execution_count": 20,
   "id": "0dcf3bd2",
   "metadata": {},
   "outputs": [
    {
     "name": "stdout",
     "output_type": "stream",
     "text": [
      "[[  646  2885]\n",
      " [ 2997 13473]]\n",
      "Accuracy : 0.34\n",
      "Precision : 0.82\n",
      "Recall : 0.82\n",
      "F1-score : 0.82\n"
     ]
    }
   ],
   "source": [
    "from sklearn.metrics import confusion_matrix, precision_score, recall_score, f1_score\n",
    "from sklearn.tree import DecisionTreeClassifier\n",
    "from sklearn.metrics import mean_absolute_error, mean_squared_error\n",
    "\n",
    "vrais_ratings = ds['rating'].values.astype(int)\n",
    "vrais_ratings = vrais_ratings[:20001]\n",
    "\n",
    "# Initialization of the decision tree\n",
    "dtc = DecisionTreeClassifier()\n",
    "\n",
    "# Drive model on drive data\n",
    "dtc.fit(x_train, y_train)\n",
    "\n",
    "# Predicting tags for test data\n",
    "pred_ratings = dtc.predict(x_test)\n",
    "\n",
    "# Set threshold to determine relevance of items\n",
    "seuil = 2.5\n",
    "\n",
    "# Define lists for real and predicted ratings\n",
    "vrais_ratings = [1 if rating >= seuil else 0 for rating in vrais_ratings]\n",
    "pred_ratings = [1 if rating >= seuil else 0 for rating in pred_ratings]\n",
    "\n",
    "# calculate the confusion matrix\n",
    "conf_matrix = confusion_matrix(vrais_ratings, pred_ratings)\n",
    "\n",
    "print(conf_matrix)\n",
    "\n",
    "precision = precision_score(vrais_ratings,pred_ratings)\n",
    "recall = recall_score(vrais_ratings, pred_ratings)\n",
    "f1_score = f1_score(vrais_ratings, pred_ratings)\n",
    "accuracy = dtc.score(x_test, y_test)\n",
    "\n",
    "# View performance metrics\n",
    "print('Accuracy : {:.2f}'.format(accuracy))\n",
    "print('Precision : {:.2f}'.format(precision))\n",
    "print('Recall : {:.2f}'.format(recall))\n",
    "print('F1-score : {:.2f}'.format(f1_score))"
   ]
  },
  {
   "cell_type": "code",
   "execution_count": 21,
   "id": "54998f3b",
   "metadata": {},
   "outputs": [
    {
     "data": {
      "image/png": "[encoded data removed]",
      "text/plain": [
       "<Figure size 640x480 with 1 Axes>"
      ]
     },
     "metadata": {},
     "output_type": "display_data"
    }
   ],
   "source": [
    "import matplotlib.pyplot as plt\n",
    "\n",
    "# List of values of k to be tested\n",
    "k_values = [5, 10, 20, 50]\n",
    "\n",
    "# List to store details for each value of k\n",
    "accuracies = []\n",
    "\n",
    "# For each value of k, drive the model and calculate the accuracy\n",
    "for k in k_values:\n",
    "    knn = KNeighborsClassifier(n_neighbors=k)\n",
    "    knn.fit(x_train, y_train)\n",
    "    y_pred = knn.predict(x_test)\n",
    "    accuracy = accuracy_score(y_test, y_pred)\n",
    "    accuracies.append(accuracy)\n",
    "\n",
    "# Plot the precision graph according to the value of k\n",
    "plt.plot(k_values, accuracies)\n",
    "plt.xlabel('Valeur de k')\n",
    "plt.ylabel('Accuracy')\n",
    "plt.title('Accuracy en fonction de la valeur de k')\n",
    "plt.show()"
   ]
  },
  {
   "cell_type": "code",
   "execution_count": null,
   "id": "523b97d3",
   "metadata": {},
   "outputs": [],
   "source": []
  }
 ],
 "metadata": {
  "kernelspec": {
   "display_name": "Python 3 (ipykernel)",
   "language": "python",
   "name": "python3"
  },
  "language_info": {
   "codemirror_mode": {
    "name": "ipython",
    "version": 3
   },
   "file_extension": ".py",
   "mimetype": "text/x-python",
   "name": "python",
   "nbconvert_exporter": "python",
   "pygments_lexer": "ipython3",
   "version": "3.11.7"
  }
 },
 "nbformat": 4,
 "nbformat_minor": 5
}
