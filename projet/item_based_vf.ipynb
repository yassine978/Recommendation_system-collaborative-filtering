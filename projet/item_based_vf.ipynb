{
 "cells": [
  {
   "cell_type": "code",
   "execution_count": 1,
   "id": "a9cad189",
   "metadata": {},
   "outputs": [
    {
     "data": {
      "text/plain": [
       "(100004, 4)"
      ]
     },
     "execution_count": 1,
     "metadata": {},
     "output_type": "execute_result"
    }
   ],
   "source": [
    "from scipy import spatial\n",
    "import pandas as pd\n",
    "import numpy as np\n",
    "from sklearn.datasets import make_blobs\n",
    "from sklearn.neighbors import NearestNeighbors\n",
    "from sklearn.model_selection import train_test_split\n",
    "from sklearn.metrics import accuracy_score\n",
    "from sklearn.tree import DecisionTreeClassifier\n",
    "from sklearn.metrics import confusion_matrix\n",
    "ds = pd.read_csv(\"Ratings.csv\")\n",
    "ds.shape"
   ]
  },
  {
   "cell_type": "code",
   "execution_count": 2,
   "id": "deb16d90",
   "metadata": {},
   "outputs": [
    {
     "data": {
      "text/html": [
       "<div>\n",
       "<style scoped>\n",
       "    .dataframe tbody tr th:only-of-type {\n",
       "        vertical-align: middle;\n",
       "    }\n",
       "\n",
       "    .dataframe tbody tr th {\n",
       "        vertical-align: top;\n",
       "    }\n",
       "\n",
       "    .dataframe thead th {\n",
       "        text-align: right;\n",
       "    }\n",
       "</style>\n",
       "<table border=\"1\" class=\"dataframe\">\n",
       "  <thead>\n",
       "    <tr style=\"text-align: right;\">\n",
       "      <th></th>\n",
       "      <th>userId</th>\n",
       "      <th>movieId</th>\n",
       "      <th>rating</th>\n",
       "      <th>timestamp</th>\n",
       "    </tr>\n",
       "  </thead>\n",
       "  <tbody>\n",
       "    <tr>\n",
       "      <th>0</th>\n",
       "      <td>1</td>\n",
       "      <td>31</td>\n",
       "      <td>2.5</td>\n",
       "      <td>1260759144</td>\n",
       "    </tr>\n",
       "    <tr>\n",
       "      <th>1</th>\n",
       "      <td>1</td>\n",
       "      <td>1029</td>\n",
       "      <td>3.0</td>\n",
       "      <td>1260759179</td>\n",
       "    </tr>\n",
       "    <tr>\n",
       "      <th>2</th>\n",
       "      <td>1</td>\n",
       "      <td>1061</td>\n",
       "      <td>3.0</td>\n",
       "      <td>1260759182</td>\n",
       "    </tr>\n",
       "    <tr>\n",
       "      <th>3</th>\n",
       "      <td>1</td>\n",
       "      <td>1129</td>\n",
       "      <td>2.0</td>\n",
       "      <td>1260759185</td>\n",
       "    </tr>\n",
       "    <tr>\n",
       "      <th>4</th>\n",
       "      <td>1</td>\n",
       "      <td>1172</td>\n",
       "      <td>4.0</td>\n",
       "      <td>1260759205</td>\n",
       "    </tr>\n",
       "  </tbody>\n",
       "</table>\n",
       "</div>"
      ],
      "text/plain": [
       "   userId  movieId  rating   timestamp\n",
       "0       1       31     2.5  1260759144\n",
       "1       1     1029     3.0  1260759179\n",
       "2       1     1061     3.0  1260759182\n",
       "3       1     1129     2.0  1260759185\n",
       "4       1     1172     4.0  1260759205"
      ]
     },
     "execution_count": 2,
     "metadata": {},
     "output_type": "execute_result"
    }
   ],
   "source": [
    "ds.head()"
   ]
  },
  {
   "cell_type": "code",
   "execution_count": 3,
   "id": "5ec67a0d",
   "metadata": {},
   "outputs": [
    {
     "name": "stdout",
     "output_type": "stream",
     "text": [
      "[[0. 0. 0. ... 0. 0. 0.]\n",
      " [0. 0. 0. ... 0. 0. 0.]\n",
      " [0. 0. 0. ... 0. 0. 0.]\n",
      " ...\n",
      " [0. 0. 0. ... 0. 0. 0.]\n",
      " [4. 0. 0. ... 0. 0. 0.]\n",
      " [5. 0. 0. ... 0. 0. 0.]]\n"
     ]
    }
   ],
   "source": [
    "movie = ds.pivot_table(index='userId', columns='movieId', values='rating')\n",
    "movie=np.nan_to_num(movie,nan=0)\n",
    "print(movie)"
   ]
  },
  {
   "cell_type": "code",
   "execution_count": 4,
   "id": "d2cf1d49",
   "metadata": {},
   "outputs": [
    {
     "name": "stdout",
     "output_type": "stream",
     "text": [
      "[[0. 0. 0. ... 0. 4. 4.]\n",
      " [0. 0. 0. ... 0. 2. 0.]\n",
      " [0. 0. 0. ... 0. 0. 4.]\n",
      " ...\n",
      " [0. 0. 0. ... 0. 0. 0.]\n",
      " [0. 0. 0. ... 0. 0. 0.]\n",
      " [0. 0. 0. ... 0. 0. 0.]]\n"
     ]
    }
   ],
   "source": [
    "c_movie=movie[0:100,0:500]\n",
    "c_movie = np.transpose(c_movie)\n",
    "print(c_movie)"
   ]
  },
  {
   "cell_type": "code",
   "execution_count": 5,
   "id": "edf87afd",
   "metadata": {},
   "outputs": [
    {
     "name": "stdout",
     "output_type": "stream",
     "text": [
      "Entrer le nombre de film à rechercher:: 1\n",
      "Entrer le nombre de user à rechercher: 100\n",
      "Enter number of neighbors (k): 50\n",
      "[[0.   0.   0.   ... 0.   4.   0.42]\n",
      " [0.   0.   0.   ... 0.   2.   0.  ]\n",
      " [0.   0.   0.   ... 0.   0.   4.  ]\n",
      " ...\n",
      " [0.   0.   0.   ... 0.   0.   0.  ]\n",
      " [0.   0.   0.   ... 0.   0.   0.  ]\n",
      " [0.   0.   0.   ... 0.   0.   0.  ]]\n",
      "les 50 plus proche film pour ce film est :\n",
      "[284, 427, 232, 321, 100, 472, 32, 96, 31, 447, 203, 266, 328, 344, 406, 58, 309, 87, 45, 24, 282, 129, 37, 122, 98, 102, 1, 184, 419, 485, 5, 262, 422, 331, 341, 363, 258, 48, 444, 140, 268, 263, 196, 318, 139, 483, 10, 378, 461, 15]\n"
     ]
    }
   ],
   "source": [
    "user_r=0\n",
    "film_rech=int(input(\"Enter the number of movies to search for: \"))\n",
    "user_rech=int(input(\"Enter the number of users to search for: \"))\n",
    "p=c_movie[film_rech-1][user_rech-1]\n",
    "Maxfilm=[]\n",
    "k = int(input(\"Enter number of neighbors (k): \"))\n",
    "\n",
    "nbrs = NearestNeighbors(n_neighbors=k+1, metric='cosine').fit(c_movie)\n",
    "distances, indices = nbrs.kneighbors([c_movie[film_rech-1]])\n",
    "for i in range(1,k+1):\n",
    "    Maxfilm.append(indices[0][i])\n",
    "for n in Maxfilm:\n",
    "    user_r=user_r+c_movie[n][user_rech-1]\n",
    "user_r=user_r/k\n",
    "c_movie[film_rech-1][user_rech-1] = user_r\n",
    "print(c_movie)\n",
    "c_movie[film_rech-1][user_rech-1]=p\n",
    "print('les',k,'plus proche film pour ce film est :')\n",
    "print(Maxfilm)"
   ]
  },
  {
   "cell_type": "code",
   "execution_count": 6,
   "id": "5c71b81a",
   "metadata": {},
   "outputs": [
    {
     "name": "stdout",
     "output_type": "stream",
     "text": [
      "Entrer le nombre de film à rechercher:: 1\n",
      "Entrer le nombre de user à rechercher: 100\n",
      "Enter number of neighbors (k): 50\n",
      "[[0.   0.   0.   ... 0.   4.   0.46]\n",
      " [0.   0.   0.   ... 0.   2.   0.  ]\n",
      " [0.   0.   0.   ... 0.   0.   4.  ]\n",
      " ...\n",
      " [0.   0.   0.   ... 0.   0.   0.  ]\n",
      " [0.   0.   0.   ... 0.   0.   0.  ]\n",
      " [0.   0.   0.   ... 0.   0.   0.  ]]\n",
      "les 50 plus proche film pour ce film est :\n",
      "[96, 32, 447, 58, 87, 203, 98, 419, 102, 309, 422, 24, 184, 427, 139, 378, 262, 474, 483, 285, 344, 190, 282, 119, 332, 11, 444, 1, 13, 137, 122, 363, 328, 405, 25, 453, 49, 219, 218, 140, 331, 37, 466, 2, 4, 59, 441, 73, 461, 326]\n"
     ]
    }
   ],
   "source": [
    "user_r=0\n",
    "film_rech=int(input(\"Enter the number of movies to search for: \"))\n",
    "user_rech=int(input(\"Enter the number of users to search for: \"))\n",
    "p=c_movie[film_rech-1][user_rech-1]\n",
    "Maxfilm=[]\n",
    "k = int(input(\"Enter number of neighbors (k): \"))\n",
    "\n",
    "nbrs = NearestNeighbors(n_neighbors=k+1, metric='euclidean').fit(c_movie)\n",
    "distances, indices = nbrs.kneighbors([c_movie[film_rech-1]])\n",
    "for i in range(1,k+1):\n",
    "    Maxfilm.append(indices[0][i])\n",
    "for n in Maxfilm:\n",
    "    user_r=user_r+c_movie[n][user_rech-1]\n",
    "user_r=user_r/k\n",
    "c_movie[film_rech-1][user_rech-1] = user_r\n",
    "print(c_movie)\n",
    "c_movie[film_rech-1][user_rech-1]=p\n",
    "print('les',k,'plus proche film pour ce film est :')\n",
    "print(Maxfilm)"
   ]
  },
  {
   "cell_type": "code",
   "execution_count": 7,
   "id": "a6407f6f",
   "metadata": {},
   "outputs": [
    {
     "name": "stdout",
     "output_type": "stream",
     "text": [
      "Entrer le nombre de film à rechercher:: 1\n",
      "Entrer le nombre de user à rechercher: 100\n",
      "Enter number of neighbors (k): 50\n",
      "[[0.   0.   0.   ... 0.   4.   0.42]\n",
      " [0.   0.   0.   ... 0.   2.   0.  ]\n",
      " [0.   0.   0.   ... 0.   0.   4.  ]\n",
      " ...\n",
      " [0.   0.   0.   ... 0.   0.   0.  ]\n",
      " [0.   0.   0.   ... 0.   0.   0.  ]\n",
      " [0.   0.   0.   ... 0.   0.   0.  ]]\n",
      "les 50 plus proche film pour ce film est :\n",
      "[284, 98, 32, 96, 427, 363, 58, 447, 419, 422, 11, 119, 100, 102, 203, 474, 378, 24, 285, 87, 232, 338, 453, 25, 472, 405, 328, 321, 31, 404, 61, 344, 444, 190, 218, 122, 461, 13, 73, 37, 440, 140, 59, 262, 326, 468, 219, 318, 309, 479]\n"
     ]
    }
   ],
   "source": [
    "user_r=0\n",
    "film_rech=int(input(\"Enter the number of movies to search for: \"))\n",
    "user_rech=int(input(\"Enter the number of users to search for: \"))\n",
    "p=c_movie[film_rech-1][user_rech-1]\n",
    "Maxfilm=[]\n",
    "k = int(input(\"Enter number of neighbors (k): \"))\n",
    "\n",
    "nbrs = NearestNeighbors(n_neighbors=k+1, metric='correlation').fit(c_movie)\n",
    "distances, indices = nbrs.kneighbors([c_movie[film_rech-1]])\n",
    "for i in range(1,k+1):\n",
    "    Maxfilm.append(indices[0][i])\n",
    "for n in Maxfilm:\n",
    "    user_r=user_r+c_movie[n][user_rech-1]\n",
    "user_r=user_r/k\n",
    "c_movie[film_rech-1][user_rech-1] = user_r\n",
    "print(c_movie)\n",
    "c_movie[film_rech-1][user_rech-1]=p\n",
    "print('les',k,'plus proche film pour ce film est :')\n",
    "print(Maxfilm)"
   ]
  },
  {
   "cell_type": "code",
   "execution_count": 8,
   "id": "f462657b",
   "metadata": {},
   "outputs": [
    {
     "name": "stdout",
     "output_type": "stream",
     "text": [
      "Entrer le nombre de film à rechercher:: 1\n",
      "Entrer le nombre de user à rechercher: 100\n",
      "Enter number of neighbors (k): 50\n",
      "[[0.   0.   0.   ... 0.   4.   0.42]\n",
      " [0.   0.   0.   ... 0.   2.   0.  ]\n",
      " [0.   0.   0.   ... 0.   0.   4.  ]\n",
      " ...\n",
      " [0.   0.   0.   ... 0.   0.   0.  ]\n",
      " [0.   0.   0.   ... 0.   0.   0.  ]\n",
      " [0.   0.   0.   ... 0.   0.   0.  ]]\n",
      "les 50 plus proche film pour ce film est :\n",
      "[427, 232, 284, 100, 321, 31, 472, 32, 266, 328, 282, 96, 447, 485, 309, 203, 406, 122, 129, 344, 45, 331, 58, 24, 1, 37, 5, 87, 102, 263, 184, 48, 262, 341, 196, 258, 10, 455, 15, 391, 318, 225, 483, 16, 322, 268, 139, 101, 302, 454]\n"
     ]
    },
    {
     "name": "stderr",
     "output_type": "stream",
     "text": [
      "C:\\Users\\user\\anaconda3\\lib\\site-packages\\sklearn\\metrics\\pairwise.py:1875: DataConversionWarning: Data was converted to boolean for metric jaccard\n",
      "  warnings.warn(msg, DataConversionWarning)\n"
     ]
    }
   ],
   "source": [
    "user_r=0\n",
    "film_rech=int(input(\"Enter the number of movies to search for: \"))\n",
    "user_rech=int(input(\"Enter the number of users to search for: \"))\n",
    "p=c_movie[film_rech-1][user_rech-1]\n",
    "Maxfilm=[]\n",
    "k = int(input(\"Enter number of neighbors (k): \"))\n",
    "\n",
    "nbrs = NearestNeighbors(n_neighbors=k+1, metric='jaccard').fit(c_movie)\n",
    "distances, indices = nbrs.kneighbors([c_movie[film_rech-1]])\n",
    "for i in range(1,k+1):\n",
    "    Maxfilm.append(indices[0][i])\n",
    "for n in Maxfilm:\n",
    "    user_r=user_r+c_movie[n][user_rech-1]\n",
    "user_r=user_r/k\n",
    "c_movie[film_rech-1][user_rech-1] = user_r\n",
    "print(c_movie)\n",
    "c_movie[film_rech-1][user_rech-1]=p\n",
    "print('les',k,'plus proche film pour ce film est :')\n",
    "print(Maxfilm)"
   ]
  },
  {
   "cell_type": "code",
   "execution_count": 9,
   "id": "5943c926",
   "metadata": {},
   "outputs": [
    {
     "data": {
      "text/html": [
       "<div>\n",
       "<style scoped>\n",
       "    .dataframe tbody tr th:only-of-type {\n",
       "        vertical-align: middle;\n",
       "    }\n",
       "\n",
       "    .dataframe tbody tr th {\n",
       "        vertical-align: top;\n",
       "    }\n",
       "\n",
       "    .dataframe thead th {\n",
       "        text-align: right;\n",
       "    }\n",
       "</style>\n",
       "<table border=\"1\" class=\"dataframe\">\n",
       "  <thead>\n",
       "    <tr style=\"text-align: right;\">\n",
       "      <th></th>\n",
       "      <th>movieId</th>\n",
       "      <th>userId</th>\n",
       "      <th>timestamp</th>\n",
       "      <th>rating</th>\n",
       "    </tr>\n",
       "  </thead>\n",
       "  <tbody>\n",
       "    <tr>\n",
       "      <th>0</th>\n",
       "      <td>31</td>\n",
       "      <td>1</td>\n",
       "      <td>1260759144</td>\n",
       "      <td>2.5</td>\n",
       "    </tr>\n",
       "    <tr>\n",
       "      <th>1</th>\n",
       "      <td>1029</td>\n",
       "      <td>1</td>\n",
       "      <td>1260759179</td>\n",
       "      <td>3.0</td>\n",
       "    </tr>\n",
       "    <tr>\n",
       "      <th>2</th>\n",
       "      <td>1061</td>\n",
       "      <td>1</td>\n",
       "      <td>1260759182</td>\n",
       "      <td>3.0</td>\n",
       "    </tr>\n",
       "    <tr>\n",
       "      <th>3</th>\n",
       "      <td>1129</td>\n",
       "      <td>1</td>\n",
       "      <td>1260759185</td>\n",
       "      <td>2.0</td>\n",
       "    </tr>\n",
       "    <tr>\n",
       "      <th>4</th>\n",
       "      <td>1172</td>\n",
       "      <td>1</td>\n",
       "      <td>1260759205</td>\n",
       "      <td>4.0</td>\n",
       "    </tr>\n",
       "  </tbody>\n",
       "</table>\n",
       "</div>"
      ],
      "text/plain": [
       "   movieId  userId   timestamp  rating\n",
       "0       31       1  1260759144     2.5\n",
       "1     1029       1  1260759179     3.0\n",
       "2     1061       1  1260759182     3.0\n",
       "3     1129       1  1260759185     2.0\n",
       "4     1172       1  1260759205     4.0"
      ]
     },
     "execution_count": 9,
     "metadata": {},
     "output_type": "execute_result"
    }
   ],
   "source": [
    "ds=ds.reindex(columns=[\"movieId\",\"userId\",\"timestamp\",\"rating\"])\n",
    "ds.head()"
   ]
  },
  {
   "cell_type": "code",
   "execution_count": 10,
   "id": "80515f16",
   "metadata": {},
   "outputs": [],
   "source": [
    "#KNN!!\n",
    "#Now, we will transform the data using iloc to access the required data and .values property to get the output as an array\n",
    "# We are storing all rows and first 3 columns in x, and the rating column in y.\n",
    "x = ds.iloc[:,:2].values\n",
    "y = ds['rating'].values.astype(int)\n",
    "x_train, x_test, y_train, y_test = train_test_split(x, y , test_size=0.2, random_state=0)"
   ]
  },
  {
   "cell_type": "code",
   "execution_count": 11,
   "id": "1f24010a",
   "metadata": {},
   "outputs": [
    {
     "data": {
      "text/plain": [
       "KNeighborsClassifier(n_neighbors=80)"
      ]
     },
     "execution_count": 11,
     "metadata": {},
     "output_type": "execute_result"
    }
   ],
   "source": [
    "from sklearn.neighbors import KNeighborsClassifier\n",
    "#Knn \n",
    "#two classifiers with k values of 5 and 10 to demonstrate the relevance of the k value.\n",
    "#The models are then trained using a train set.\n",
    "# Prepare data\n",
    "knn5 = KNeighborsClassifier(n_neighbors = 5)\n",
    "knn10 = KNeighborsClassifier(n_neighbors=10)\n",
    "knn20 = KNeighborsClassifier(n_neighbors=20)\n",
    "knn50 = KNeighborsClassifier(n_neighbors=50)\n",
    "knn80 = KNeighborsClassifier(n_neighbors=80)\n",
    "knn5.fit(x_train, y_train)\n",
    "knn10.fit(x_train, y_train)\n",
    "knn20.fit(x_train, y_train)\n",
    "knn50.fit(x_train, y_train)\n",
    "knn80.fit(x_train, y_train)"
   ]
  },
  {
   "cell_type": "code",
   "execution_count": 12,
   "id": "5413e5fd",
   "metadata": {},
   "outputs": [
    {
     "name": "stderr",
     "output_type": "stream",
     "text": [
      "C:\\Users\\user\\anaconda3\\lib\\site-packages\\sklearn\\neighbors\\_classification.py:228: FutureWarning: Unlike other reduction functions (e.g. `skew`, `kurtosis`), the default behavior of `mode` typically preserves the axis it acts along. In SciPy 1.11.0, this behavior will change: the default value of `keepdims` will become False, the `axis` over which the statistic is taken will be eliminated, and the value None will no longer be accepted. Set `keepdims` to True or False to avoid this warning.\n",
      "  mode, _ = stats.mode(_y[neigh_ind, k], axis=1)\n",
      "C:\\Users\\user\\anaconda3\\lib\\site-packages\\sklearn\\neighbors\\_classification.py:228: FutureWarning: Unlike other reduction functions (e.g. `skew`, `kurtosis`), the default behavior of `mode` typically preserves the axis it acts along. In SciPy 1.11.0, this behavior will change: the default value of `keepdims` will become False, the `axis` over which the statistic is taken will be eliminated, and the value None will no longer be accepted. Set `keepdims` to True or False to avoid this warning.\n",
      "  mode, _ = stats.mode(_y[neigh_ind, k], axis=1)\n",
      "C:\\Users\\user\\anaconda3\\lib\\site-packages\\sklearn\\neighbors\\_classification.py:228: FutureWarning: Unlike other reduction functions (e.g. `skew`, `kurtosis`), the default behavior of `mode` typically preserves the axis it acts along. In SciPy 1.11.0, this behavior will change: the default value of `keepdims` will become False, the `axis` over which the statistic is taken will be eliminated, and the value None will no longer be accepted. Set `keepdims` to True or False to avoid this warning.\n",
      "  mode, _ = stats.mode(_y[neigh_ind, k], axis=1)\n",
      "C:\\Users\\user\\anaconda3\\lib\\site-packages\\sklearn\\neighbors\\_classification.py:228: FutureWarning: Unlike other reduction functions (e.g. `skew`, `kurtosis`), the default behavior of `mode` typically preserves the axis it acts along. In SciPy 1.11.0, this behavior will change: the default value of `keepdims` will become False, the `axis` over which the statistic is taken will be eliminated, and the value None will no longer be accepted. Set `keepdims` to True or False to avoid this warning.\n",
      "  mode, _ = stats.mode(_y[neigh_ind, k], axis=1)\n",
      "C:\\Users\\user\\anaconda3\\lib\\site-packages\\sklearn\\neighbors\\_classification.py:228: FutureWarning: Unlike other reduction functions (e.g. `skew`, `kurtosis`), the default behavior of `mode` typically preserves the axis it acts along. In SciPy 1.11.0, this behavior will change: the default value of `keepdims` will become False, the `axis` over which the statistic is taken will be eliminated, and the value None will no longer be accepted. Set `keepdims` to True or False to avoid this warning.\n",
      "  mode, _ = stats.mode(_y[neigh_ind, k], axis=1)\n"
     ]
    }
   ],
   "source": [
    "#Predictions for the KNN Classifiers\n",
    "#In the test set, we forecast the target values and compare them to the actual values.\n",
    "y_pred_5 = knn5.predict(x_test)\n",
    "y_pred_10 = knn10.predict(x_test)\n",
    "y_pred_20=knn20.predict(x_test)\n",
    "y_pred_50=knn50.predict(x_test)\n",
    "y_pred_80=knn80.predict(x_test)"
   ]
  },
  {
   "cell_type": "code",
   "execution_count": 13,
   "id": "b9a5b3a9",
   "metadata": {},
   "outputs": [
    {
     "name": "stdout",
     "output_type": "stream",
     "text": [
      "Accuracy with k=5 32.893355332233384\n",
      "Accuracy with k=10 34.54327283635818\n",
      "Accuracy with k=20 35.58322083895805\n",
      "Accuracy with k=50 36.63816809159542\n",
      "Accuracy with k=80 36.7631618419079\n"
     ]
    }
   ],
   "source": [
    "#Predict Accuracy for both k values\n",
    "from sklearn.metrics import accuracy_score\n",
    "print(\"Accuracy with k=5\", accuracy_score(y_test, y_pred_5)*100)\n",
    "print(\"Accuracy with k=10\", accuracy_score(y_test, y_pred_10)*100)\n",
    "print(\"Accuracy with k=20\", accuracy_score(y_test, y_pred_20)*100)\n",
    "print(\"Accuracy with k=50\", accuracy_score(y_test, y_pred_50)*100)\n",
    "print(\"Accuracy with k=80\", accuracy_score(y_test, y_pred_80)*100)"
   ]
  },
  {
   "cell_type": "code",
   "execution_count": 14,
   "id": "8d27621d",
   "metadata": {},
   "outputs": [
    {
     "name": "stdout",
     "output_type": "stream",
     "text": [
      "              precision    recall  f1-score   support\n",
      "\n",
      "           0       0.03      0.02      0.03       218\n",
      "           1       0.11      0.09      0.10       955\n",
      "           2       0.18      0.15      0.16      2374\n",
      "           3       0.34      0.42      0.37      6175\n",
      "           4       0.40      0.43      0.41      7298\n",
      "           5       0.27      0.14      0.19      2981\n",
      "\n",
      "    accuracy                           0.33     20001\n",
      "   macro avg       0.22      0.21      0.21     20001\n",
      "weighted avg       0.32      0.33      0.32     20001\n",
      "\n",
      "[[   5   14   29   75   79   16]\n",
      " [  13   84  143  377  284   54]\n",
      " [  32  126  360  956  792  108]\n",
      " [  40  222  685 2592 2260  376]\n",
      " [  41  224  617 2688 3110  618]\n",
      " [  12   68  204  961 1308  428]]\n"
     ]
    }
   ],
   "source": [
    "from sklearn.metrics import classification_report, confusion_matrix\n",
    "print(classification_report(y_test,y_pred_5))\n",
    "print(confusion_matrix(y_test,y_pred_5))\n",
    "#Support is the number of actual occurrences of the class in the specified dataset."
   ]
  },
  {
   "cell_type": "code",
   "execution_count": 15,
   "id": "acc2e5ba",
   "metadata": {},
   "outputs": [
    {
     "name": "stdout",
     "output_type": "stream",
     "text": [
      "              precision    recall  f1-score   support\n",
      "\n",
      "           0       0.00      0.00      0.00       218\n",
      "           1       0.16      0.05      0.08       955\n",
      "           2       0.20      0.12      0.15      2374\n",
      "           3       0.34      0.43      0.38      6175\n",
      "           4       0.39      0.48      0.43      7298\n",
      "           5       0.30      0.13      0.18      2981\n",
      "\n",
      "    accuracy                           0.35     20001\n",
      "   macro avg       0.23      0.20      0.20     20001\n",
      "weighted avg       0.32      0.35      0.32     20001\n",
      "\n",
      "[[   0   10   18   93   87   10]\n",
      " [   1   52  104  397  355   46]\n",
      " [   2   53  281  945 1001   92]\n",
      " [   2   92  463 2675 2654  289]\n",
      " [   6   86  432 2756 3501  517]\n",
      " [   0   25  132  952 1472  400]]\n"
     ]
    }
   ],
   "source": [
    "print(classification_report(y_test,y_pred_10))\n",
    "print(confusion_matrix(y_test,y_pred_10))"
   ]
  },
  {
   "cell_type": "code",
   "execution_count": 16,
   "id": "975b3bef",
   "metadata": {},
   "outputs": [
    {
     "name": "stdout",
     "output_type": "stream",
     "text": [
      "              precision    recall  f1-score   support\n",
      "\n",
      "           0       0.00      0.00      0.00       218\n",
      "           1       0.18      0.02      0.03       955\n",
      "           2       0.17      0.05      0.08      2374\n",
      "           3       0.34      0.43      0.38      6175\n",
      "           4       0.39      0.55      0.45      7298\n",
      "           5       0.31      0.10      0.16      2981\n",
      "\n",
      "    accuracy                           0.36     20001\n",
      "   macro avg       0.23      0.19      0.18     20001\n",
      "weighted avg       0.32      0.36      0.32     20001\n",
      "\n",
      "[[   0    2   12   81  118    5]\n",
      " [   0   15   65  409  435   31]\n",
      " [   0   17  130 1034 1130   63]\n",
      " [   1   21  250 2652 3032  219]\n",
      " [   0   23  231 2648 4009  387]\n",
      " [   1    5   56  937 1671  311]]\n"
     ]
    }
   ],
   "source": [
    "print(classification_report(y_test,y_pred_20))\n",
    "print(confusion_matrix(y_test,y_pred_20))"
   ]
  },
  {
   "cell_type": "code",
   "execution_count": 17,
   "id": "80c265d3",
   "metadata": {},
   "outputs": [
    {
     "name": "stdout",
     "output_type": "stream",
     "text": [
      "              precision    recall  f1-score   support\n",
      "\n",
      "           0       0.00      0.00      0.00       218\n",
      "           1       0.40      0.01      0.01       955\n",
      "           2       0.17      0.01      0.03      2374\n",
      "           3       0.34      0.40      0.37      6175\n",
      "           4       0.38      0.64      0.48      7298\n",
      "           5       0.35      0.06      0.11      2981\n",
      "\n",
      "    accuracy                           0.37     20001\n",
      "   macro avg       0.27      0.19      0.17     20001\n",
      "weighted avg       0.34      0.37      0.31     20001\n",
      "\n",
      "[[   0    2    3   79  131    3]\n",
      " [   0    6   23  413  496   17]\n",
      " [   0    0   33  982 1333   26]\n",
      " [   0    4   73 2445 3558   95]\n",
      " [   0    1   54 2381 4654  208]\n",
      " [   0    2   10  849 1930  190]]\n"
     ]
    },
    {
     "name": "stderr",
     "output_type": "stream",
     "text": [
      "C:\\Users\\user\\anaconda3\\lib\\site-packages\\sklearn\\metrics\\_classification.py:1318: UndefinedMetricWarning: Precision and F-score are ill-defined and being set to 0.0 in labels with no predicted samples. Use `zero_division` parameter to control this behavior.\n",
      "  _warn_prf(average, modifier, msg_start, len(result))\n",
      "C:\\Users\\user\\anaconda3\\lib\\site-packages\\sklearn\\metrics\\_classification.py:1318: UndefinedMetricWarning: Precision and F-score are ill-defined and being set to 0.0 in labels with no predicted samples. Use `zero_division` parameter to control this behavior.\n",
      "  _warn_prf(average, modifier, msg_start, len(result))\n",
      "C:\\Users\\user\\anaconda3\\lib\\site-packages\\sklearn\\metrics\\_classification.py:1318: UndefinedMetricWarning: Precision and F-score are ill-defined and being set to 0.0 in labels with no predicted samples. Use `zero_division` parameter to control this behavior.\n",
      "  _warn_prf(average, modifier, msg_start, len(result))\n"
     ]
    }
   ],
   "source": [
    "print(classification_report(y_test,y_pred_50))\n",
    "print(confusion_matrix(y_test,y_pred_50))"
   ]
  },
  {
   "cell_type": "code",
   "execution_count": 18,
   "id": "24ed30e5",
   "metadata": {},
   "outputs": [
    {
     "name": "stdout",
     "output_type": "stream",
     "text": [
      "              precision    recall  f1-score   support\n",
      "\n",
      "           0       0.00      0.00      0.00       218\n",
      "           1       0.29      0.00      0.00       955\n",
      "           2       0.25      0.01      0.01      2374\n",
      "           3       0.34      0.37      0.36      6175\n",
      "           4       0.38      0.68      0.49      7298\n",
      "           5       0.35      0.04      0.08      2981\n",
      "\n",
      "    accuracy                           0.37     20001\n",
      "   macro avg       0.27      0.18      0.16     20001\n",
      "weighted avg       0.34      0.37      0.30     20001\n",
      "\n",
      "[[   0    0    0   67  150    1]\n",
      " [   0    2    9  381  548   15]\n",
      " [   0    0   13  902 1438   21]\n",
      " [   0    1   15 2264 3830   65]\n",
      " [   0    2   11 2203 4943  139]\n",
      " [   0    2    3  754 2091  131]]\n"
     ]
    },
    {
     "name": "stderr",
     "output_type": "stream",
     "text": [
      "C:\\Users\\user\\anaconda3\\lib\\site-packages\\sklearn\\metrics\\_classification.py:1318: UndefinedMetricWarning: Precision and F-score are ill-defined and being set to 0.0 in labels with no predicted samples. Use `zero_division` parameter to control this behavior.\n",
      "  _warn_prf(average, modifier, msg_start, len(result))\n",
      "C:\\Users\\user\\anaconda3\\lib\\site-packages\\sklearn\\metrics\\_classification.py:1318: UndefinedMetricWarning: Precision and F-score are ill-defined and being set to 0.0 in labels with no predicted samples. Use `zero_division` parameter to control this behavior.\n",
      "  _warn_prf(average, modifier, msg_start, len(result))\n",
      "C:\\Users\\user\\anaconda3\\lib\\site-packages\\sklearn\\metrics\\_classification.py:1318: UndefinedMetricWarning: Precision and F-score are ill-defined and being set to 0.0 in labels with no predicted samples. Use `zero_division` parameter to control this behavior.\n",
      "  _warn_prf(average, modifier, msg_start, len(result))\n"
     ]
    }
   ],
   "source": [
    "from sklearn.metrics import classification_report, confusion_matrix\n",
    "print(classification_report(y_test,y_pred_80))\n",
    "print(confusion_matrix(y_test,y_pred_80))"
   ]
  },
  {
   "cell_type": "code",
   "execution_count": 21,
   "id": "e3377820",
   "metadata": {},
   "outputs": [
    {
     "name": "stdout",
     "output_type": "stream",
     "text": [
      "[[ 3531 16470]\n",
      " [    0     0]]\n",
      "Accuracy : 0.18\n",
      "Precision : 0.00\n",
      "Recall : 0.00\n",
      "F1-score : 0.00\n",
      "Mean Squared Error : 0.82\n"
     ]
    },
    {
     "name": "stderr",
     "output_type": "stream",
     "text": [
      "C:\\Users\\user\\anaconda3\\lib\\site-packages\\sklearn\\metrics\\_classification.py:1318: UndefinedMetricWarning: Recall is ill-defined and being set to 0.0 due to no true samples. Use `zero_division` parameter to control this behavior.\n",
      "  _warn_prf(average, modifier, msg_start, len(result))\n"
     ]
    }
   ],
   "source": [
    "from sklearn.metrics import confusion_matrix, precision_score, recall_score, f1_score\n",
    "from sklearn.metrics import mean_absolute_error, mean_squared_error\n",
    "\n",
    "pred_ratings = ds['rating'].values.astype(int)\n",
    "pred_ratings = pred_ratings[:20001]\n",
    "\n",
    "# Set threshold to determine relevance of items\n",
    "seuil = 2.5\n",
    "\n",
    "# Define lists for real and predicted ratings\n",
    "vrais_ratings = [1 if rating >= seuil else 0 for rating in vrais_ratings]\n",
    "pred_ratings = [1 if rating >= seuil else 0 for rating in pred_ratings]\n",
    "\n",
    "# calculate the confusion matrix\n",
    "conf_matrix = confusion_matrix(vrais_ratings, pred_ratings)\n",
    "\n",
    "print(conf_matrix)\n",
    "\n",
    "precision = precision_score(vrais_ratings,pred_ratings)\n",
    "recall = recall_score(vrais_ratings, pred_ratings)\n",
    "f1_score = f1_score(vrais_ratings, pred_ratings)\n",
    "accuracy = accuracy_score(vrais_ratings, pred_ratings)\n",
    "mse = mean_squared_error(vrais_ratings, pred_ratings)\n",
    "\n",
    "# View performance metrics\n",
    "print('Accuracy : {:.2f}'.format(accuracy))\n",
    "print('Precision : {:.2f}'.format(precision))\n",
    "print('Recall : {:.2f}'.format(recall))\n",
    "print('F1-score : {:.2f}'.format(f1_score))\n",
    "print('Mean Squared Error : {:.2f}'.format(mse))"
   ]
  },
  {
   "cell_type": "code",
   "execution_count": 20,
   "id": "7220fe7b",
   "metadata": {},
   "outputs": [
    {
     "name": "stdout",
     "output_type": "stream",
     "text": [
      "[[  644  2887]\n",
      " [ 2993 13477]]\n",
      "Accuracy : 0.34\n",
      "Precision : 0.82\n",
      "Recall : 0.82\n",
      "F1-score : 0.82\n"
     ]
    }
   ],
   "source": [
    "from sklearn.metrics import confusion_matrix, precision_score, recall_score, f1_score\n",
    "from sklearn.tree import DecisionTreeClassifier\n",
    "from sklearn.metrics import mean_absolute_error, mean_squared_error\n",
    "\n",
    "vrais_ratings = ds['rating'].values.astype(int)\n",
    "vrais_ratings = vrais_ratings[:20001]\n",
    "\n",
    "# Initialization of the decision tree\n",
    "dtc = DecisionTreeClassifier()\n",
    "\n",
    "# Drive model on drive data\n",
    "dtc.fit(x_train, y_train)\n",
    "\n",
    "# Predicting tags for test data\n",
    "pred_ratings = dtc.predict(x_test)\n",
    "\n",
    "# Set threshold to determine relevance of items\n",
    "seuil = 2.5\n",
    "\n",
    "# Define lists for real and predicted ratings\n",
    "vrais_ratings = [1 if rating >= seuil else 0 for rating in vrais_ratings]\n",
    "pred_ratings = [1 if rating >= seuil else 0 for rating in pred_ratings]\n",
    "\n",
    "# calculate the confusion matrix\n",
    "conf_matrix = confusion_matrix(vrais_ratings, pred_ratings)\n",
    "\n",
    "print(conf_matrix)\n",
    "\n",
    "precision = precision_score(vrais_ratings,pred_ratings)\n",
    "recall = recall_score(vrais_ratings, pred_ratings)\n",
    "f1_score = f1_score(vrais_ratings, pred_ratings)\n",
    "accuracy = dtc.score(x_test, y_test)\n",
    "\n",
    "# View performance metrics\n",
    "print('Accuracy : {:.2f}'.format(accuracy))\n",
    "print('Precision : {:.2f}'.format(precision))\n",
    "print('Recall : {:.2f}'.format(recall))\n",
    "print('F1-score : {:.2f}'.format(f1_score))"
   ]
  },
  {
   "cell_type": "code",
   "execution_count": 22,
   "id": "e865618e",
   "metadata": {},
   "outputs": [
    {
     "name": "stderr",
     "output_type": "stream",
     "text": [
      "C:\\Users\\user\\anaconda3\\lib\\site-packages\\sklearn\\neighbors\\_classification.py:228: FutureWarning: Unlike other reduction functions (e.g. `skew`, `kurtosis`), the default behavior of `mode` typically preserves the axis it acts along. In SciPy 1.11.0, this behavior will change: the default value of `keepdims` will become False, the `axis` over which the statistic is taken will be eliminated, and the value None will no longer be accepted. Set `keepdims` to True or False to avoid this warning.\n",
      "  mode, _ = stats.mode(_y[neigh_ind, k], axis=1)\n",
      "C:\\Users\\user\\anaconda3\\lib\\site-packages\\sklearn\\neighbors\\_classification.py:228: FutureWarning: Unlike other reduction functions (e.g. `skew`, `kurtosis`), the default behavior of `mode` typically preserves the axis it acts along. In SciPy 1.11.0, this behavior will change: the default value of `keepdims` will become False, the `axis` over which the statistic is taken will be eliminated, and the value None will no longer be accepted. Set `keepdims` to True or False to avoid this warning.\n",
      "  mode, _ = stats.mode(_y[neigh_ind, k], axis=1)\n",
      "C:\\Users\\user\\anaconda3\\lib\\site-packages\\sklearn\\neighbors\\_classification.py:228: FutureWarning: Unlike other reduction functions (e.g. `skew`, `kurtosis`), the default behavior of `mode` typically preserves the axis it acts along. In SciPy 1.11.0, this behavior will change: the default value of `keepdims` will become False, the `axis` over which the statistic is taken will be eliminated, and the value None will no longer be accepted. Set `keepdims` to True or False to avoid this warning.\n",
      "  mode, _ = stats.mode(_y[neigh_ind, k], axis=1)\n",
      "C:\\Users\\user\\anaconda3\\lib\\site-packages\\sklearn\\neighbors\\_classification.py:228: FutureWarning: Unlike other reduction functions (e.g. `skew`, `kurtosis`), the default behavior of `mode` typically preserves the axis it acts along. In SciPy 1.11.0, this behavior will change: the default value of `keepdims` will become False, the `axis` over which the statistic is taken will be eliminated, and the value None will no longer be accepted. Set `keepdims` to True or False to avoid this warning.\n",
      "  mode, _ = stats.mode(_y[neigh_ind, k], axis=1)\n",
      "C:\\Users\\user\\anaconda3\\lib\\site-packages\\sklearn\\neighbors\\_classification.py:228: FutureWarning: Unlike other reduction functions (e.g. `skew`, `kurtosis`), the default behavior of `mode` typically preserves the axis it acts along. In SciPy 1.11.0, this behavior will change: the default value of `keepdims` will become False, the `axis` over which the statistic is taken will be eliminated, and the value None will no longer be accepted. Set `keepdims` to True or False to avoid this warning.\n",
      "  mode, _ = stats.mode(_y[neigh_ind, k], axis=1)\n"
     ]
    },
    {
     "data": {
      "image/png": "[encoded data removed]",
      "text/plain": [
       "<Figure size 640x480 with 1 Axes>"
      ]
     },
     "metadata": {},
     "output_type": "display_data"
    }
   ],
   "source": [
    "import matplotlib.pyplot as plt\n",
    "\n",
    "# List of values of k to be tested\n",
    "k_values = [5, 10, 20, 50 ,80]\n",
    "\n",
    "# List to store details for each value of k\n",
    "accuracies = []\n",
    "\n",
    "# For each value of k, drive the model and calculate the accuracy\n",
    "for k in k_values:\n",
    "    knn = KNeighborsClassifier(n_neighbors=k)\n",
    "    knn.fit(x_train, y_train)\n",
    "    y_pred = knn.predict(x_test)\n",
    "    accuracy = accuracy_score(y_test, y_pred)\n",
    "    accuracies.append(accuracy)\n",
    "\n",
    "# Plot the precision graph according to the value of k\n",
    "plt.plot(k_values, accuracies)\n",
    "plt.xlabel('Valeur de k')\n",
    "plt.ylabel('Accuracy')\n",
    "plt.title('Accuracy en fonction de la valeur de k')\n",
    "plt.show()"
   ]
  },
  {
   "cell_type": "code",
   "execution_count": null,
   "id": "634f0ccc",
   "metadata": {},
   "outputs": [],
   "source": []
  }
 ],
 "metadata": {
  "kernelspec": {
   "display_name": "Python 3 (ipykernel)",
   "language": "python",
   "name": "python3"
  },
  "language_info": {
   "codemirror_mode": {
    "name": "ipython",
    "version": 3
   },
   "file_extension": ".py",
   "mimetype": "text/x-python",
   "name": "python",
   "nbconvert_exporter": "python",
   "pygments_lexer": "ipython3",
   "version": "3.11.7"
  }
 },
 "nbformat": 4,
 "nbformat_minor": 5
}
